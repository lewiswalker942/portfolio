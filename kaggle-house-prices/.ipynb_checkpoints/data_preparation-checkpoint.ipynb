{
 "cells": [
  {
   "cell_type": "code",
   "execution_count": 1,
   "id": "a80f1027",
   "metadata": {
    "scrolled": true
   },
   "outputs": [],
   "source": [
    "import numpy as np\n",
    "import pandas as pd\n",
    "import seaborn as sb\n",
    "import matplotlib.pyplot as plt\n",
    "\n",
    "from keras import Sequential\n",
    "from keras.layers import Dense, Dropout\n",
    "from keras.wrappers.scikit_learn import KerasRegressor\n",
    "import keras.backend as K\n",
    "import tensorflow as tf\n",
    "from tensorflow.keras.utils import to_categorical\n",
    "from sklearn.model_selection import train_test_split\n",
    "from tensorflow.keras.utils import to_categorical\n",
    "from sklearn.preprocessing import LabelEncoder, MinMaxScaler, OneHotEncoder, StandardScaler\n",
    "from sklearn.ensemble import RandomForestRegressor\n",
    "from sklearn.model_selection import GridSearchCV"
   ]
  },
  {
   "cell_type": "code",
   "execution_count": 162,
   "id": "a139bd5f",
   "metadata": {},
   "outputs": [],
   "source": [
    "training_data = pd.read_csv('train.csv')\n",
    "test_data = pd.read_csv('test.csv')\n",
    "\n",
    "training_data.drop(columns='Id',inplace=True)\n",
    "test_data.drop(columns='Id',inplace=True)\n",
    "\n",
    "y_train = training_data['SalePrice']\n",
    "training_data.drop(columns='SalePrice',inplace=True)\n",
    "\n",
    "N_train = training_data.shape[0]\n",
    "N_test = training_data.shape[0]\n",
    "\n",
    "# Join train and test data for preprocessing.\n",
    "dataset = pd.concat((training_data,test_data),axis=0)"
   ]
  },
  {
   "cell_type": "code",
   "execution_count": 163,
   "id": "3a7c1de9",
   "metadata": {},
   "outputs": [
    {
     "name": "stdout",
     "output_type": "stream",
     "text": [
      "Remaining features containing NaN:\n",
      "['MSZoning', 'LotFrontage', 'Utilities', 'Exterior1st', 'Exterior2nd', 'MasVnrType', 'MasVnrArea', 'Electrical', 'KitchenQual', 'Functional', 'GarageYrBlt', 'SaleType']\n"
     ]
    }
   ],
   "source": [
    "# Find and deal with NaN values by consulting the dataset documentation.\n",
    "# First fill nan with None where it indicates the given feature is not present\n",
    "\n",
    "feats = ['Alley',\n",
    "         'BsmtQual',\n",
    "         'BsmtCond',\n",
    "         'BsmtExposure',\n",
    "         'BsmtFinType1',\n",
    "         'BsmtFinType2',\n",
    "         'FireplaceQu',\n",
    "         'GarageType',\n",
    "         'GarageFinish',\n",
    "         'GarageQual',\n",
    "         'GarageCond',\n",
    "         'PoolQC',\n",
    "         'Fence',\n",
    "         'MiscFeature']\n",
    "\n",
    "for f in feats:\n",
    "    dataset[f].fillna('None',inplace=True)\n",
    "\n",
    "\n",
    "# Enforce zero for certain ordinal features relating to a part of the structure which may not exist\n",
    "for f in ['BsmtFullBath','BsmtHalfBath','BsmtFinSF1','BsmtFinSF2','BsmtUnfSF','TotalBsmtSF']:\n",
    "    dataset.loc[dataset['BsmtQual']=='None',f] = 0\n",
    "\n",
    "\n",
    "for f in ['GarageCars','GarageArea','GarageFinish']:\n",
    "    dataset.loc[dataset['GarageCond']=='None',f] = 0\n",
    "\n",
    " # GarageYrBlt is a potentially problematic feature which we will revisit. Leave as NaN for now.\n",
    "\n",
    "print('Remaining features containing NaN:')\n",
    "print(list(dataset.columns[dataset.isna().sum()>0]))\n",
    "\n"
   ]
  },
  {
   "cell_type": "markdown",
   "id": "9f4ca977",
   "metadata": {},
   "source": [
    "We now investigate the remaining nan-containing features. We can check if NaN again indicates the lack of a given house feature (for example, Masonry Veneer) by checking if all features concerning that house feature are also NaN. Then we can fill nan's appropriately."
   ]
  },
  {
   "cell_type": "code",
   "execution_count": 164,
   "id": "9f45ce9d",
   "metadata": {},
   "outputs": [
    {
     "name": "stdout",
     "output_type": "stream",
     "text": [
      "      MasVnrArea MasVnrType\n",
      "234          NaN        NaN\n",
      "529          NaN        NaN\n",
      "650          NaN        NaN\n",
      "936          NaN        NaN\n",
      "973          NaN        NaN\n",
      "977          NaN        NaN\n",
      "1243         NaN        NaN\n",
      "1278         NaN        NaN\n",
      "231          NaN        NaN\n",
      "246          NaN        NaN\n",
      "422          NaN        NaN\n",
      "532          NaN        NaN\n",
      "544          NaN        NaN\n",
      "581          NaN        NaN\n",
      "851          NaN        NaN\n",
      "865          NaN        NaN\n",
      "880          NaN        NaN\n",
      "889          NaN        NaN\n",
      "908          NaN        NaN\n",
      "1132         NaN        NaN\n",
      "1197         NaN        NaN\n",
      "1226         NaN        NaN\n",
      "1402         NaN        NaN\n"
     ]
    }
   ],
   "source": [
    "# MasVnrType contains lots of NaN entries, which also have corresponding NaNs for MasVnrArea.\n",
    "# Thus we conclude that in this case, NaN corresponds to no masonry veneer\n",
    "print(dataset[dataset['MasVnrArea'].isna()][['MasVnrArea','MasVnrType']].head(100))\n",
    "dataset['MasVnrArea'].fillna(0,inplace=True)\n",
    "dataset['MasVnrType'].fillna('None',inplace=True)"
   ]
  },
  {
   "cell_type": "code",
   "execution_count": 165,
   "id": "8ce57fdc",
   "metadata": {},
   "outputs": [
    {
     "name": "stdout",
     "output_type": "stream",
     "text": [
      "\n",
      "0 entries with LotFrontage == 0\n"
     ]
    }
   ],
   "source": [
    "# LotFrontage contains NaNs, but no zeros. Likely that properties with 0 LotFrontage have been recorded as NaN\n",
    "print()\n",
    "print(f'{dataset[dataset[\"LotFrontage\"]==0].shape[0]} entries with LotFrontage == 0')\n",
    "\n",
    "# Replace Nan with 0 for LotFrontage\n",
    "dataset['LotFrontage'].fillna(0,inplace=True)"
   ]
  },
  {
   "cell_type": "markdown",
   "id": "16fe7aa1",
   "metadata": {},
   "source": [
    "Investigate NaN in KitchenQual. There is only one NaN entry, which does not correspond to a property without a kitchen. We replace it with the mode value of KitchenQual"
   ]
  },
  {
   "cell_type": "code",
   "execution_count": 166,
   "id": "fa30a2f7",
   "metadata": {},
   "outputs": [
    {
     "data": {
      "text/html": [
       "<div>\n",
       "<style scoped>\n",
       "    .dataframe tbody tr th:only-of-type {\n",
       "        vertical-align: middle;\n",
       "    }\n",
       "\n",
       "    .dataframe tbody tr th {\n",
       "        vertical-align: top;\n",
       "    }\n",
       "\n",
       "    .dataframe thead th {\n",
       "        text-align: right;\n",
       "    }\n",
       "</style>\n",
       "<table border=\"1\" class=\"dataframe\">\n",
       "  <thead>\n",
       "    <tr style=\"text-align: right;\">\n",
       "      <th></th>\n",
       "      <th>KitchenAbvGr</th>\n",
       "      <th>KitchenQual</th>\n",
       "    </tr>\n",
       "  </thead>\n",
       "  <tbody>\n",
       "    <tr>\n",
       "      <th>954</th>\n",
       "      <td>0</td>\n",
       "      <td>TA</td>\n",
       "    </tr>\n",
       "    <tr>\n",
       "      <th>1127</th>\n",
       "      <td>0</td>\n",
       "      <td>TA</td>\n",
       "    </tr>\n",
       "    <tr>\n",
       "      <th>1399</th>\n",
       "      <td>0</td>\n",
       "      <td>TA</td>\n",
       "    </tr>\n",
       "  </tbody>\n",
       "</table>\n",
       "</div>"
      ],
      "text/plain": [
       "      KitchenAbvGr KitchenQual\n",
       "954              0          TA\n",
       "1127             0          TA\n",
       "1399             0          TA"
      ]
     },
     "execution_count": 166,
     "metadata": {},
     "output_type": "execute_result"
    }
   ],
   "source": [
    "dataset[dataset['KitchenAbvGr']==0][['KitchenAbvGr', 'KitchenQual']]"
   ]
  },
  {
   "cell_type": "code",
   "execution_count": 167,
   "id": "e89d689d",
   "metadata": {},
   "outputs": [
    {
     "data": {
      "text/html": [
       "<div>\n",
       "<style scoped>\n",
       "    .dataframe tbody tr th:only-of-type {\n",
       "        vertical-align: middle;\n",
       "    }\n",
       "\n",
       "    .dataframe tbody tr th {\n",
       "        vertical-align: top;\n",
       "    }\n",
       "\n",
       "    .dataframe thead th {\n",
       "        text-align: right;\n",
       "    }\n",
       "</style>\n",
       "<table border=\"1\" class=\"dataframe\">\n",
       "  <thead>\n",
       "    <tr style=\"text-align: right;\">\n",
       "      <th></th>\n",
       "      <th>KitchenAbvGr</th>\n",
       "      <th>KitchenQual</th>\n",
       "    </tr>\n",
       "  </thead>\n",
       "  <tbody>\n",
       "    <tr>\n",
       "      <th>95</th>\n",
       "      <td>1</td>\n",
       "      <td>NaN</td>\n",
       "    </tr>\n",
       "  </tbody>\n",
       "</table>\n",
       "</div>"
      ],
      "text/plain": [
       "    KitchenAbvGr KitchenQual\n",
       "95             1         NaN"
      ]
     },
     "execution_count": 167,
     "metadata": {},
     "output_type": "execute_result"
    }
   ],
   "source": [
    "dataset[dataset['KitchenQual'].isna()][['KitchenAbvGr', 'KitchenQual']]"
   ]
  },
  {
   "cell_type": "code",
   "execution_count": 168,
   "id": "fbbcf643",
   "metadata": {},
   "outputs": [
    {
     "name": "stdout",
     "output_type": "stream",
     "text": [
      "Remaining features containing NaN:\n",
      "['MSZoning', 'Utilities', 'Exterior1st', 'Exterior2nd', 'Electrical', 'Functional', 'GarageYrBlt', 'SaleType']\n"
     ]
    }
   ],
   "source": [
    "dataset['KitchenQual'].fillna(dataset['KitchenQual'].mode()[0],inplace=True)\n",
    "\n",
    "print('Remaining features containing NaN:')\n",
    "print(list(dataset.columns[dataset.isna().sum()>0]))"
   ]
  },
  {
   "cell_type": "code",
   "execution_count": 169,
   "id": "1b906026",
   "metadata": {},
   "outputs": [],
   "source": [
    "# For Functional feature, documatnation states to assume Typ. We replace NaN with 'Typ'\n",
    "dataset['Functional'].fillna('Typ',inplace=True)"
   ]
  },
  {
   "cell_type": "code",
   "execution_count": 170,
   "id": "4421b2d1",
   "metadata": {},
   "outputs": [],
   "source": [
    "# Perform mode imputation for remaining NaN-containing features (other than GarageYrBlt).\n",
    "\n",
    "for f in list(dataset.columns[dataset.isna().sum()>0]):\n",
    "    if f != 'GarageYrBlt':\n",
    "        dataset[f].fillna(dataset[f].mode()[0],inplace=True)\n",
    "        \n",
    "\n",
    "# MSSubClass is a numerical feature which should not be interpreted as an ordinal data type. We cast it to string:\n",
    "training_data['MSSubClass'] = training_data['MSSubClass'].astype('str')\n",
    "test_data['MSSubClass'] = test_data['MSSubClass'].astype('str')\n",
    "\n",
    "# Use sine/cosine representation of month sold and remove original feature\n",
    "training_data['cos(MoSold)'] = np.cos(training_data['MoSold']*2*np.pi/12)\n",
    "training_data['sin(MoSold)'] = np.sin(training_data['MoSold']*2*np.pi/12)\n",
    "training_data.drop(columns='MoSold',inplace=True)"
   ]
  },
  {
   "cell_type": "code",
   "execution_count": 3,
   "id": "9df6dbcd",
   "metadata": {
    "scrolled": true
   },
   "outputs": [],
   "source": [
    "# Create a function that converts categorical features to one-hot-encoded features in one line\n",
    "def categorical_to_ohe(input_data,feature_names):\n",
    "    input_data = input_data.copy()\n",
    "    le = LabelEncoder()\n",
    "    ohe = OneHotEncoder()\n",
    "    for fname in feature_names:\n",
    "        tmp = ohe.fit_transform(le.fit_transform(input_data[fname]).reshape(-1,1)\n",
    "                     ).toarray()\n",
    "\n",
    "        input_data.drop(columns=fname,inplace=True)\n",
    "        new_fnames = [f'{fname} = {c}' for c in le.classes_]\n",
    "        input_data[new_fnames] = tmp\n",
    "    return input_data\n",
    "    \n",
    "    "
   ]
  },
  {
   "cell_type": "code",
   "execution_count": 171,
   "id": "7b0d134d",
   "metadata": {},
   "outputs": [
    {
     "name": "stdout",
     "output_type": "stream",
     "text": [
      "ExterQual\n",
      "ExterCond\n",
      "BsmtQual\n",
      "BsmtCond\n",
      "KitchenQual\n",
      "HeatingQC\n",
      "FireplaceQu\n",
      "GarageQual\n",
      "GarageCond\n",
      "PoolQC\n",
      "Street\n",
      "Alley\n",
      "LandSlope\n",
      "BsmtExposure\n",
      "BsmtFinType1\n",
      "BsmtFinType2\n",
      "CentralAir\n",
      "Functional\n",
      "GarageFinish\n",
      "PavedDrive\n",
      "Fence\n"
     ]
    }
   ],
   "source": [
    "# Convert string-denoted features to interger-denoted ordinals where appropriate\n",
    "# (ie the feature represents increasing 'quality')\n",
    "\n",
    "ordinals = ['ExterQual',\n",
    "            'ExterCond',\n",
    "            'BsmtQual',\n",
    "            'BsmtCond',\n",
    "            'KitchenQual',\n",
    "            'HeatingQC',\n",
    "            'FireplaceQu',\n",
    "            'GarageQual',\n",
    "            'GarageCond',\n",
    "            'PoolQC']\n",
    "\n",
    "# BsmtExposure\n",
    "for fname in ordinals:\n",
    "    dataset[fname].replace(['Ex', 'Gd', 'TA', 'Fa', 'Po', 'None'],\n",
    "                           [5,4,3,2,1,0], inplace=True)\n",
    "    \n",
    "    dataset[fname].replace(['Gd', 'Av', 'Mn', 'No'],\n",
    "                           [3,2,1,0], inplace=True)\n",
    "\n",
    "dataset['Street'].replace(['Grvl','Pave'],[0,1], inplace=True)\n",
    "\n",
    "dataset['Alley'].replace(['None', 'Grvl','Pave'],[0,1,2], inplace=True)\n",
    "\n",
    "dataset['LandSlope'].replace(['Gtl','Mod', 'Sev'],\n",
    "                             [2,1,0], inplace=True)\n",
    "\n",
    "dataset['BsmtExposure'].replace(['Gd','Av','Mn','No','None'],\n",
    "                         [4,3,2,1,0], inplace=True)\n",
    "\n",
    "dataset['BsmtFinType1'].replace(['GLQ','ALQ', 'BLQ', 'Rec', 'LwQ', 'Unf', 'None'],\n",
    "                                [6,5,4,3,2,1,0], inplace=True)\n",
    "\n",
    "dataset['BsmtFinType2'].replace(['GLQ','ALQ', 'BLQ', 'Rec', 'LwQ', 'Unf', 'None'],\n",
    "                                [6,5,4,3,2,1,0], inplace=True)\n",
    "\n",
    "dataset['CentralAir'].replace(['Y','N'],[1,0], inplace=True)\n",
    "\n",
    "dataset['Functional'].replace(['Typ','Min1', 'Min2', 'Mod', 'Maj1', 'Maj2', 'Sev', 'Sal'],\n",
    "                              [7,6,5,4,3,2,1,0], inplace=True)\n",
    "\n",
    "dataset['GarageFinish'].replace(['Fin','RFn', 'Unf', 'None'],\n",
    "                                [3,2,1,0], inplace=True)\n",
    "\n",
    "dataset['PavedDrive'].replace(['Y','P','N'],\n",
    "                              [2,1,0], inplace=True)\n",
    "\n",
    "dataset['Fence'].replace(['GdPrv','MnPrv', 'GdWo', 'MnWw', 'None'],\n",
    "                         [4,3,2,1,0], inplace=True)\n",
    "\n",
    "\n",
    "ordinals = ordinals+ ['Street',\n",
    "                      'Alley',\n",
    "                      'LandSlope',\n",
    "                      'BsmtExposure',\n",
    "                      'BsmtFinType1',\n",
    "                      'BsmtFinType2',\n",
    "                      'CentralAir',\n",
    "                      'Functional',\n",
    "                      'GarageFinish',\n",
    "                      'PavedDrive',\n",
    "                      'Fence']\n",
    "\n",
    "for fname in ordinals:\n",
    "    print(fname)\n",
    "    dataset[fname].astype(dtype=int,copy=False)\n"
   ]
  },
  {
   "cell_type": "code",
   "execution_count": null,
   "id": "53d093c4",
   "metadata": {},
   "outputs": [],
   "source": [
    "# Feature Engineering\n",
    "dataset['Remodelled']      = (dataset['YearBuilt']!=dataset['YearRemodAdd']).astype('int')\n",
    "dataset['HiQualFinSF']     = dataset['GrLivArea']-dataset['LowQualFinSF']\n",
    "dataset['TotBathAG']       = dataset['FullBath'] + dataset['HalfBath']\n",
    "dataset['TotBathBmt']      = dataset['BsmtFullBath'] + dataset['BsmtHalfBath']\n",
    "dataset['TotBath']         = dataset['TotBathAG'] + dataset['TotBathBmt']\n",
    "dataset['BsmtUnfFraction'] = dataset['BsmtUnfSF']/dataset['TotalBsmtSF']\n",
    "dataset['RemodelDelta']    = dataset['YearRemodAdd']-dataset['YearBuilt']\n",
    "dataset['AgeSold']         = dataset['YrSold']-dataset['YearBuilt']\n",
    "\n",
    "dataset['BsmtUnfFraction'].fillna(value=0, inplace=True)\n",
    "\n",
    "if drop_redundant:\n",
    "    dataset.drop(columns=['FullBath','HalfBath','BsmtFullBath','BsmtHalfBath','GrLivArea','LowQualFinSF','YearRemodAdd'],\n",
    "                inplace=True)"
   ]
  },
  {
   "cell_type": "code",
   "execution_count": 176,
   "id": "edc8df21",
   "metadata": {},
   "outputs": [
    {
     "data": {
      "text/plain": [
       "(2919, 225)"
      ]
     },
     "execution_count": 176,
     "metadata": {},
     "output_type": "execute_result"
    }
   ],
   "source": [
    "categorical_features = list(dataset.dtypes[dataset.dtypes=='object'].index)\n",
    "\n",
    "dataset_processed = categorical_to_ohe(dataset, categorical_features)\n",
    "\n",
    "dataset_processed.shape\n",
    "\n",
    "#dataset_processed.drop(columns=['MiscFeature = None','GarageType = None'],inplace=True)"
   ]
  },
  {
   "cell_type": "code",
   "execution_count": 8,
   "id": "39ce5559",
   "metadata": {},
   "outputs": [
    {
     "name": "stdout",
     "output_type": "stream",
     "text": [
      "(1460, 363)\n",
      "(1459, 363)\n"
     ]
    }
   ],
   "source": [
    "mms0 = MinMaxScaler()\n",
    "joined_data1 = pd.DataFrame(mms0.fit_transform(joined_data),columns=joined_data.columns)\n",
    "\n",
    "#mxskew = 4\n",
    "#joined_data1.loc[:,joined_data1.skew().abs()>mxskew] = np.log1p(joined_data1.loc[:,joined_data1.skew().abs()>mxskew])\n",
    "\n",
    "training_data_processed = joined_data1.iloc[:sz1,:].copy()\n",
    "test_data_processed = joined_data1.iloc[sz1:,:].copy()\n",
    "\n",
    "print(training_data_processed.shape)\n",
    "print(test_data_processed.shape)"
   ]
  },
  {
   "cell_type": "code",
   "execution_count": 9,
   "id": "0dd9e7d5",
   "metadata": {},
   "outputs": [],
   "source": [
    "cmatrix = training_data_processed.corr()\n",
    "\n",
    "upper_tri = cmatrix.where(np.triu(np.ones(cmatrix.shape),k=1).astype('bool'))\n",
    "\n",
    "to_drop = [column for column in upper_tri.columns if any(upper_tri[column] >= .95)]\n",
    "\n",
    "training_data_processed.drop(columns=to_drop,inplace=True)\n",
    "test_data_processed.drop(columns=to_drop,inplace=True)"
   ]
  },
  {
   "cell_type": "code",
   "execution_count": 10,
   "id": "565ea863",
   "metadata": {},
   "outputs": [],
   "source": [
    "\n",
    "\n",
    "X_train = training_data_processed\n",
    "y_train = np.log(tmp)\n",
    "X_test = test_data_processed\n",
    "\n",
    "X_train, X_val, y_train, y_val = train_test_split(X_train, y_train, test_size=0.1, shuffle=True)"
   ]
  },
  {
   "cell_type": "code",
   "execution_count": null,
   "id": "dc15ca01",
   "metadata": {},
   "outputs": [],
   "source": [
    "mms = MinMaxScaler()\n",
    "X_train = mms.fit_transform(X_train)\n",
    "X_val = mms.transform(X_val)\n",
    "X_test = mms.transform(test_data_processed)"
   ]
  },
  {
   "cell_type": "code",
   "execution_count": 11,
   "id": "10d9f795",
   "metadata": {},
   "outputs": [
    {
     "name": "stderr",
     "output_type": "stream",
     "text": [
      "C:\\Users\\lewis\\AppData\\Local\\Temp\\ipykernel_18624\\43654895.py:20: DeprecationWarning: KerasRegressor is deprecated, use Sci-Keras (https://github.com/adriangb/scikeras) instead. See https://www.adriangb.com/scikeras/stable/migration.html for help migrating.\n",
      "  model = KerasRegressor(build_fn=baseline_model,\n"
     ]
    },
    {
     "name": "stdout",
     "output_type": "stream",
     "text": [
      "Epoch 1/1000\n",
      "21/21 [==============================] - 1s 9ms/step - loss: 58.2417 - val_loss: 0.9458\n",
      "Epoch 2/1000\n",
      "21/21 [==============================] - 0s 4ms/step - loss: 2.2872 - val_loss: 0.7544\n",
      "Epoch 3/1000\n",
      "21/21 [==============================] - 0s 4ms/step - loss: 0.2816 - val_loss: 0.1230\n",
      "Epoch 4/1000\n",
      "21/21 [==============================] - 0s 4ms/step - loss: 0.0736 - val_loss: 0.0592\n",
      "Epoch 5/1000\n",
      "21/21 [==============================] - 0s 4ms/step - loss: 0.0594 - val_loss: 0.0536\n",
      "Epoch 6/1000\n",
      "21/21 [==============================] - 0s 4ms/step - loss: 0.0547 - val_loss: 0.0513\n",
      "Epoch 7/1000\n",
      "21/21 [==============================] - 0s 4ms/step - loss: 0.0522 - val_loss: 0.0491\n",
      "Epoch 8/1000\n",
      "21/21 [==============================] - 0s 4ms/step - loss: 0.0496 - val_loss: 0.0475\n",
      "Epoch 9/1000\n",
      "21/21 [==============================] - 0s 4ms/step - loss: 0.0473 - val_loss: 0.0452\n",
      "Epoch 10/1000\n",
      "21/21 [==============================] - 0s 4ms/step - loss: 0.0451 - val_loss: 0.0429\n",
      "Epoch 11/1000\n",
      "21/21 [==============================] - 0s 4ms/step - loss: 0.0432 - val_loss: 0.0412\n",
      "Epoch 12/1000\n",
      "21/21 [==============================] - 0s 4ms/step - loss: 0.0410 - val_loss: 0.0394\n",
      "Epoch 13/1000\n",
      "21/21 [==============================] - 0s 4ms/step - loss: 0.0397 - val_loss: 0.0380\n",
      "Epoch 14/1000\n",
      "21/21 [==============================] - 0s 4ms/step - loss: 0.0378 - val_loss: 0.0369\n",
      "Epoch 15/1000\n",
      "21/21 [==============================] - 0s 3ms/step - loss: 0.0362 - val_loss: 0.0352\n",
      "Epoch 16/1000\n",
      "21/21 [==============================] - 0s 4ms/step - loss: 0.0350 - val_loss: 0.0342\n",
      "Epoch 17/1000\n",
      "21/21 [==============================] - 0s 3ms/step - loss: 0.0342 - val_loss: 0.0327\n",
      "Epoch 18/1000\n",
      "21/21 [==============================] - 0s 3ms/step - loss: 0.0330 - val_loss: 0.0311\n",
      "Epoch 19/1000\n",
      "21/21 [==============================] - 0s 3ms/step - loss: 0.0320 - val_loss: 0.0313\n",
      "Epoch 20/1000\n",
      "21/21 [==============================] - 0s 4ms/step - loss: 0.0311 - val_loss: 0.0291\n",
      "Epoch 21/1000\n",
      "21/21 [==============================] - 0s 4ms/step - loss: 0.0298 - val_loss: 0.0285\n",
      "Epoch 22/1000\n",
      "21/21 [==============================] - 0s 4ms/step - loss: 0.0289 - val_loss: 0.0274\n",
      "Epoch 23/1000\n",
      "21/21 [==============================] - 0s 4ms/step - loss: 0.0280 - val_loss: 0.0268\n",
      "Epoch 24/1000\n",
      "21/21 [==============================] - 0s 4ms/step - loss: 0.0275 - val_loss: 0.0258\n",
      "Epoch 25/1000\n",
      "21/21 [==============================] - 0s 4ms/step - loss: 0.0270 - val_loss: 0.0251\n",
      "Epoch 26/1000\n",
      "21/21 [==============================] - 0s 4ms/step - loss: 0.0263 - val_loss: 0.0245\n",
      "Epoch 27/1000\n",
      "21/21 [==============================] - 0s 4ms/step - loss: 0.0257 - val_loss: 0.0242\n",
      "Epoch 28/1000\n",
      "21/21 [==============================] - 0s 4ms/step - loss: 0.0250 - val_loss: 0.0235\n",
      "Epoch 29/1000\n",
      "21/21 [==============================] - 0s 3ms/step - loss: 0.0249 - val_loss: 0.0237\n",
      "Epoch 30/1000\n",
      "21/21 [==============================] - 0s 4ms/step - loss: 0.0243 - val_loss: 0.0221\n",
      "Epoch 31/1000\n",
      "21/21 [==============================] - 0s 3ms/step - loss: 0.0238 - val_loss: 0.0228\n",
      "Epoch 32/1000\n",
      "21/21 [==============================] - 0s 4ms/step - loss: 0.0235 - val_loss: 0.0214\n",
      "Epoch 33/1000\n",
      "21/21 [==============================] - 0s 4ms/step - loss: 0.0231 - val_loss: 0.0241\n",
      "Epoch 34/1000\n",
      "21/21 [==============================] - 0s 4ms/step - loss: 0.0238 - val_loss: 0.0206\n",
      "Epoch 35/1000\n",
      "21/21 [==============================] - 0s 4ms/step - loss: 0.0226 - val_loss: 0.0203\n",
      "Epoch 36/1000\n",
      "21/21 [==============================] - 0s 4ms/step - loss: 0.0219 - val_loss: 0.0198\n",
      "Epoch 37/1000\n",
      "21/21 [==============================] - 0s 3ms/step - loss: 0.0219 - val_loss: 0.0210\n",
      "Epoch 38/1000\n",
      "21/21 [==============================] - 0s 4ms/step - loss: 0.0218 - val_loss: 0.0191\n",
      "Epoch 39/1000\n",
      "21/21 [==============================] - 0s 3ms/step - loss: 0.0210 - val_loss: 0.0194\n",
      "Epoch 40/1000\n",
      "21/21 [==============================] - 0s 4ms/step - loss: 0.0210 - val_loss: 0.0189\n",
      "Epoch 41/1000\n",
      "21/21 [==============================] - 0s 4ms/step - loss: 0.0205 - val_loss: 0.0184\n",
      "Epoch 42/1000\n",
      "21/21 [==============================] - 0s 4ms/step - loss: 0.0205 - val_loss: 0.0178\n",
      "Epoch 43/1000\n",
      "21/21 [==============================] - 0s 3ms/step - loss: 0.0198 - val_loss: 0.0191\n",
      "Epoch 44/1000\n",
      "21/21 [==============================] - 0s 4ms/step - loss: 0.0206 - val_loss: 0.0175\n",
      "Epoch 45/1000\n",
      "21/21 [==============================] - 0s 4ms/step - loss: 0.0195 - val_loss: 0.0174\n",
      "Epoch 46/1000\n",
      "21/21 [==============================] - 0s 4ms/step - loss: 0.0192 - val_loss: 0.0171\n",
      "Epoch 47/1000\n",
      "21/21 [==============================] - 0s 4ms/step - loss: 0.0193 - val_loss: 0.0177\n",
      "Epoch 48/1000\n",
      "21/21 [==============================] - 0s 4ms/step - loss: 0.0188 - val_loss: 0.0168\n",
      "Epoch 49/1000\n",
      "21/21 [==============================] - 0s 4ms/step - loss: 0.0183 - val_loss: 0.0170\n",
      "Epoch 50/1000\n",
      "21/21 [==============================] - 0s 3ms/step - loss: 0.0183 - val_loss: 0.0165\n",
      "Epoch 51/1000\n",
      "21/21 [==============================] - 0s 4ms/step - loss: 0.0179 - val_loss: 0.0164\n",
      "Epoch 52/1000\n",
      "21/21 [==============================] - 0s 3ms/step - loss: 0.0179 - val_loss: 0.0163\n",
      "Epoch 53/1000\n",
      "21/21 [==============================] - 0s 3ms/step - loss: 0.0178 - val_loss: 0.0164\n",
      "Epoch 54/1000\n",
      "21/21 [==============================] - 0s 3ms/step - loss: 0.0174 - val_loss: 0.0182\n",
      "Epoch 55/1000\n",
      "21/21 [==============================] - 0s 3ms/step - loss: 0.0173 - val_loss: 0.0173\n",
      "Epoch 56/1000\n",
      "21/21 [==============================] - 0s 4ms/step - loss: 0.0172 - val_loss: 0.0163\n",
      "Epoch 57/1000\n",
      "21/21 [==============================] - 0s 4ms/step - loss: 0.0168 - val_loss: 0.0160\n",
      "Epoch 58/1000\n",
      "21/21 [==============================] - 0s 3ms/step - loss: 0.0167 - val_loss: 0.0161\n",
      "Epoch 59/1000\n",
      "21/21 [==============================] - 0s 4ms/step - loss: 0.0165 - val_loss: 0.0158\n",
      "Epoch 60/1000\n",
      "21/21 [==============================] - 0s 4ms/step - loss: 0.0162 - val_loss: 0.0160\n",
      "Epoch 61/1000\n",
      "21/21 [==============================] - 0s 4ms/step - loss: 0.0160 - val_loss: 0.0159\n",
      "Epoch 62/1000\n",
      "21/21 [==============================] - 0s 3ms/step - loss: 0.0158 - val_loss: 0.0167\n",
      "Epoch 63/1000\n",
      "21/21 [==============================] - 0s 3ms/step - loss: 0.0161 - val_loss: 0.0160\n",
      "Epoch 64/1000\n",
      "21/21 [==============================] - 0s 4ms/step - loss: 0.0156 - val_loss: 0.0161\n",
      "Epoch 65/1000\n",
      "21/21 [==============================] - 0s 4ms/step - loss: 0.0154 - val_loss: 0.0169\n",
      "Epoch 66/1000\n",
      "21/21 [==============================] - 0s 3ms/step - loss: 0.0152 - val_loss: 0.0168\n",
      "Epoch 67/1000\n",
      "21/21 [==============================] - 0s 4ms/step - loss: 0.0149 - val_loss: 0.0175\n",
      "Epoch 68/1000\n",
      "21/21 [==============================] - 0s 4ms/step - loss: 0.0149 - val_loss: 0.0175\n",
      "Epoch 69/1000\n",
      "21/21 [==============================] - 0s 3ms/step - loss: 0.0153 - val_loss: 0.0172\n",
      "3/3 [==============================] - 0s 2ms/step\n"
     ]
    },
    {
     "data": {
      "image/png": "[encoded data removed]",
      "text/plain": [
       "<Figure size 432x288 with 1 Axes>"
      ]
     },
     "metadata": {
      "needs_background": "light"
     },
     "output_type": "display_data"
    }
   ],
   "source": [
    "# Benchmark model\n",
    "K.clear_session()\n",
    "in_dim = np.shape(X_train)[1]\n",
    "\n",
    "\n",
    "def baseline_model():\n",
    "    # create model\n",
    "    model = Sequential()\n",
    "    model.add(Dense(100, input_dim=in_dim, activation='tanh'))\n",
    "    model.add(Dense(50, activation='relu'))\n",
    "    model.add(Dense(20, activation='relu'))\n",
    "    model.add(Dense(10, activation='relu'))\n",
    "    model.add(Dense(1, activation='linear'))\n",
    "    # Compile model\n",
    "    model.compile(loss='mse', optimizer='adam')\n",
    "    return model\n",
    "\n",
    "\n",
    "\n",
    "model = KerasRegressor(build_fn=baseline_model,\n",
    "                       epochs=1000,\n",
    "                       batch_size=64,\n",
    "                       verbose=1,\n",
    "                       validation_data=(X_val, y_val),\n",
    "                       callbacks = tf.keras.callbacks.EarlyStopping(monitor='val_loss',\n",
    "                                                                    patience=10,\n",
    "                                                                    min_delta=1e-6,\n",
    "                                                                    restore_best_weights=True))\n",
    "\n",
    "\n",
    "\n",
    "model.fit(X_train, y_train)\n",
    "yp_ann = model.predict(X_val)\n",
    "err = np.abs(np.exp(yp_ann)-np.exp(y_val))\n",
    "\n",
    "plt.hist(err,bins=100)\n",
    "\n",
    "plt.title(f'Mean error = {np.mean(err)}')\n",
    "plt.show()"
   ]
  },
  {
   "cell_type": "code",
   "execution_count": 150,
   "id": "19563716",
   "metadata": {},
   "outputs": [
    {
     "name": "stderr",
     "output_type": "stream",
     "text": [
      "C:\\Users\\lewis\\AppData\\Local\\Temp\\ipykernel_11212\\2087937150.py:5: DeprecationWarning: KerasRegressor is deprecated, use Sci-Keras (https://github.com/adriangb/scikeras) instead. See https://www.adriangb.com/scikeras/stable/migration.html for help migrating.\n",
      "  ann_model = KerasRegressor(build_fn=baseline_model,\n"
     ]
    },
    {
     "name": "stdout",
     "output_type": "stream",
     "text": [
      "Model: ANN\n",
      "Model: RF\n",
      "Best parameters for RF: {'max_depth': 24, 'n_estimators': 70}\n",
      "Model: XT\n",
      "Best parameters for XT: {'max_depth': 14, 'n_estimators': 100}\n",
      "Model: XGBoost\n",
      "Model: Pois\n",
      "Best parameters for Pois: {'alpha': 0.2}\n",
      "Best weights: [0.3929787  0.07038359 0.07213179 0.4548545  0.00965142]\n"
     ]
    },
    {
     "data": {
      "image/png": "[encoded data removed]",
      "text/plain": [
       "<Figure size 720x288 with 9 Axes>"
      ]
     },
     "metadata": {
      "needs_background": "light"
     },
     "output_type": "display_data"
    }
   ],
   "source": [
    "from sklearn.ensemble import GradientBoostingRegressor, AdaBoostRegressor, ExtraTreesRegressor\n",
    "from xgboost import XGBRegressor\n",
    "from sklearn.linear_model import Ridge, PoissonRegressor, Lasso, ElasticNet\n",
    "\n",
    "ann_model = KerasRegressor(build_fn=baseline_model,\n",
    "                       epochs=1000,\n",
    "                       batch_size=64,\n",
    "                       verbose=0,\n",
    "                       validation_data=(X_val, y_val),\n",
    "                       callbacks = tf.keras.callbacks.EarlyStopping(monitor='val_loss',\n",
    "                                                                    patience=10,\n",
    "                                                                    min_delta=1e-6,\n",
    "                                                                    restore_best_weights=True))\n",
    "\n",
    "models = [ann_model,\n",
    "          RandomForestRegressor(),\n",
    "          ExtraTreesRegressor(),\n",
    "          XGBRegressor(eval_metric='mae', max_depth=2, n_estimators = 500),\n",
    "          PoissonRegressor(max_iter=100000)]\n",
    "\n",
    "titles = ['ANN',\n",
    "          'RF',\n",
    "          'XT',\n",
    "          'XGBoost',\n",
    "          'Pois',\n",
    "          'Wt.Avg.']\n",
    "\n",
    "\n",
    "pgrid = {'RF': {'n_estimators' : [70,80], 'max_depth' : [16,20,24]},\n",
    "        'XT': {'n_estimators' : [50,75,100], 'max_depth' : [6,8,10,12,14]},\n",
    "        'Pois': {'alpha' : [0.2,0.4,0.6,0.8,1]}}\n",
    "\n",
    "yp = []\n",
    "err = []\n",
    "ct = 0\n",
    "for m in models:\n",
    "    print(f'Model: {titles[ct]}')\n",
    "    \n",
    "    if titles[ct] == 'XGBoost':\n",
    "        m.fit(X_train,y_train, eval_set=[(X_val,y_val)], verbose=0)\n",
    "        ypp = m.predict(X_val)\n",
    "        \n",
    "    elif titles[ct] == 'ANN':\n",
    "        m.fit(X_train,y_train)\n",
    "        ypp = m.predict(X_val)\n",
    "        \n",
    "    else:\n",
    "        cvm = GridSearchCV(m,param_grid=pgrid[titles[ct]]).fit(X_train,y_train)\n",
    "        ypp = cvm.predict(X_val)\n",
    "        print(f'Best parameters for {titles[ct]}: {cvm.best_params_}')\n",
    "        \n",
    "        \n",
    "    yp.append(np.exp(ypp.reshape(-1,1)))\n",
    "    err.append(np.abs(np.exp(ypp)-np.exp(y_val)))\n",
    "    ct+=1\n",
    "\n",
    "\n",
    "predictions = yp[0]\n",
    "for i in range(1,len(yp)):\n",
    "    predictions = np.concatenate((predictions,yp[i]),axis=1)\n",
    "\n",
    "best = 9999999999\n",
    "\n",
    "for i in range(10000):\n",
    "    w = np.random.rand(np.shape(predictions)[1])\n",
    "    w = w/np.sum(w)\n",
    "    yp_avg = np.sum(predictions*w,axis=1)\n",
    "    err_avg = np.mean(np.abs(np.exp(y_val)-yp_avg))\n",
    "    \n",
    "    if err_avg<best:\n",
    "        best=err_avg\n",
    "        best_w = w\n",
    "    \n",
    "\n",
    "print(f'Best weights: {best_w}')\n",
    "\n",
    "yp.append(np.sum(predictions*best_w,axis=1))\n",
    "err.append(np.abs(np.abs(np.exp(y_val)-yp_avg)))\n",
    "\n",
    "\n",
    "fix,ax = plt.subplots(nrows=3,ncols=3,figsize=(10,4))\n",
    "ax = ax.flatten()\n",
    "\n",
    "for i in range(len(yp)):\n",
    "    ax[i].hist(err[i],bins=100)\n",
    "    ax[i].set_title(f'{titles[i]}: Mean error = {np.round(np.mean(err[i]),1)}')\n",
    "\n",
    "\n",
    "plt.tight_layout()"
   ]
  },
  {
   "cell_type": "code",
   "execution_count": 70,
   "id": "ba292ec8",
   "metadata": {},
   "outputs": [],
   "source": [
    "# feed through test set\n",
    "\n",
    "test_pred_avg = models[0].predict(X_test)*best_w[0]\n",
    "for i in range(1,len(models)):\n",
    "    test_pred_avg += models[i].predict(X_test)*best_w[i]\n",
    "\n",
    "\n",
    "\n"
   ]
  },
  {
   "cell_type": "code",
   "execution_count": 71,
   "id": "383133f0",
   "metadata": {},
   "outputs": [
    {
     "name": "stdout",
     "output_type": "stream",
     "text": [
      "(1459,)\n"
     ]
    }
   ],
   "source": [
    "print(np.shape(test_pred_avg))\n",
    "pred = pd.DataFrame(test_pred_avg)\n",
    "sub_df = pd.read_csv('sample_submission.csv')\n",
    "datasets = pd.concat([sub_df['Id'],pred],axis=1)\n",
    "datasets.columns = ['Id', 'SalePrice']\n",
    "datasets.to_csv('submission_1.csv',index=False)"
   ]
  }
 ],
 "metadata": {
  "kernelspec": {
   "display_name": "Python 3 (ipykernel)",
   "language": "python",
   "name": "python3"
  },
  "language_info": {
   "codemirror_mode": {
    "name": "ipython",
    "version": 3
   },
   "file_extension": ".py",
   "mimetype": "text/x-python",
   "name": "python",
   "nbconvert_exporter": "python",
   "pygments_lexer": "ipython3",
   "version": "3.10.4"
  }
 },
 "nbformat": 4,
 "nbformat_minor": 5
}
