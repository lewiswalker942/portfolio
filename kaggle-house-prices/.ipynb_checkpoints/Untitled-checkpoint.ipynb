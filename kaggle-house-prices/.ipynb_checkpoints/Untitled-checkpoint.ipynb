{
 "cells": [
  {
   "cell_type": "code",
   "execution_count": 1,
   "id": "a80f1027",
   "metadata": {
    "scrolled": true
   },
   "outputs": [],
   "source": [
    "import numpy as np\n",
    "import pandas as pd\n",
    "import seaborn as sb\n",
    "import matplotlib.pyplot as plt\n",
    "\n",
    "from keras import Sequential\n",
    "from keras.layers import Dense, Dropout\n",
    "from keras.wrappers.scikit_learn import KerasRegressor\n",
    "import keras.backend as K\n",
    "import tensorflow as tf\n",
    "from tensorflow.keras.utils import to_categorical\n",
    "from sklearn.model_selection import train_test_split\n",
    "from tensorflow.keras.utils import to_categorical\n",
    "from sklearn.preprocessing import LabelEncoder, MinMaxScaler, OneHotEncoder\n",
    "from sklearn.ensemble import RandomForestRegressor\n",
    "from sklearn.model_selection import GridSearchCV"
   ]
  },
  {
   "cell_type": "code",
   "execution_count": 2,
   "id": "9df6dbcd",
   "metadata": {
    "scrolled": true
   },
   "outputs": [],
   "source": [
    "def categorical_to_ohe(input_data,feature_names):\n",
    "    input_data = input_data.copy()\n",
    "    le = LabelEncoder()\n",
    "    ohe = OneHotEncoder()\n",
    "    for fname in feature_names:\n",
    "        tmp = ohe.fit_transform(le.fit_transform(input_data[fname]).reshape(-1,1)\n",
    "                     ).toarray()\n",
    "\n",
    "        input_data.drop(columns=fname,inplace=True)\n",
    "        new_fnames = [f'{fname} = {c}' for c in le.classes_]\n",
    "        input_data[new_fnames] = tmp\n",
    "    return input_data\n",
    "    \n",
    "    "
   ]
  },
  {
   "cell_type": "code",
   "execution_count": 3,
   "id": "b43e7643",
   "metadata": {
    "scrolled": true
   },
   "outputs": [],
   "source": [
    "training_data = pd.read_csv('train.csv')\n",
    "test_data = pd.read_csv('test.csv')\n",
    "\n",
    "training_data.drop(columns='Id',inplace=True)\n",
    "test_data.drop(columns='Id',inplace=True)\n",
    "\n",
    "drop_list = ['Neighborhood', 'Alley', 'LandContour', 'LotShape', 'GarageCars']\n",
    "\n",
    "training_data.drop(columns=drop_list,inplace=True)\n",
    "test_data.drop(columns=drop_list,inplace=True)\n",
    "\n",
    "training_data['MasVnrType'].fillna(value='none',inplace=True)\n",
    "test_data['MasVnrType'].fillna(value='none',inplace=True)\n",
    "\n",
    "training_data['MSSubClass'] = training_data['MSSubClass'].astype('str')\n",
    "test_data['MSSubClass'] = test_data['MSSubClass'].astype('str')\n",
    "\n",
    "\n",
    "training_data['MoSold'] = np.cos(training_data['MoSold']*2*np.pi/12)"
   ]
  },
  {
   "cell_type": "code",
   "execution_count": 4,
   "id": "617d8cf6",
   "metadata": {},
   "outputs": [
    {
     "name": "stdout",
     "output_type": "stream",
     "text": [
      "['MSSubClass', 'MSZoning', 'Street', 'Utilities', 'LotConfig', 'Condition1', 'Condition2', 'BldgType', 'HouseStyle', 'RoofStyle', 'RoofMatl', 'Exterior1st', 'Exterior2nd', 'MasVnrType', 'Foundation', 'Heating', 'Electrical', 'GarageType', 'MiscFeature', 'SaleType', 'SaleCondition']\n",
      "['Functional', 'LandSlope', 'BsmtFinType1', 'BsmtFinType2', 'PavedDrive', 'GarageFinish', 'Fence', 'CentralAir', 'GarageCond', 'GarageQual', 'PoolQC', 'ExterQual', 'ExterCond', 'BsmtQual', 'BsmtCond', 'KitchenQual', 'HeatingQC', 'BsmtExposure', 'FireplaceQu']\n"
     ]
    }
   ],
   "source": [
    "# Convert required types\n",
    "categorical_classes = list(training_data.dtypes[training_data.dtypes=='object'].index)\n",
    "\n",
    "nominal_classes = []\n",
    "\n",
    "\n",
    "\n",
    "nominal = ['Functional','LandSlope','BsmtFinType1',\n",
    "        'BsmtFinType2','PavedDrive','GarageFinish',\n",
    "        'Fence','CentralAir','GarageCond',\n",
    "        'GarageQual','PoolQC','ExterQual',\n",
    "        'ExterCond','BsmtQual','BsmtCond',\n",
    "        'KitchenQual','HeatingQC','BsmtExposure',\n",
    "       'FireplaceQu']\n",
    "\n",
    "for c in nominal:\n",
    "    categorical_classes.remove(c)\n",
    "    nominal_classes.append(c)\n",
    "\n",
    "print(categorical_classes)\n",
    "print(nominal_classes)"
   ]
  },
  {
   "cell_type": "code",
   "execution_count": 5,
   "id": "ff2d5ff2",
   "metadata": {},
   "outputs": [],
   "source": [
    "def data_processing(data, nominal_features, categorical):\n",
    "    for c in nominal_features:\n",
    "        data[c].replace(['Ex', 'Gd', 'TA', 'Fa', 'Po', np.nan],[5,4,3,2,1,0], inplace=True)\n",
    "        data[c].replace(['Gd', 'Av', 'Mn', 'No'],[3,2,1,0], inplace=True)\n",
    "\n",
    "    data['CentralAir'].replace(['Y','N'],[1,0], inplace=True)\n",
    "\n",
    "    data['Fence'].replace(['GdPrv','MnPrv', 'GdWo', 'MnWw', np.nan],\n",
    "                                   [4,3,2,1,0], inplace=True)\n",
    "\n",
    "    data['GarageFinish'].replace(['Fin','RFn', 'Unf', np.nan],\n",
    "                                   [3,2,1,0], inplace=True)\n",
    "\n",
    "    data['BsmtFinType1'].replace(['GLQ','ALQ', 'BLQ', 'Rec', 'LwQ', 'Unf', np.nan],\n",
    "                                          [6,5,4,3,2,1,0], inplace=True)\n",
    "\n",
    "    data['BsmtFinType2'].replace(['GLQ','ALQ', 'BLQ', 'Rec', 'LwQ', 'Unf', np.nan],\n",
    "                                          [6,5,4,3,2,1,0], inplace=True)\n",
    "\n",
    "    data['PavedDrive'].replace(['Y','P', 'N'],\n",
    "                                        [2,1,0], inplace=True)\n",
    "\n",
    "    data['LandSlope'].replace(['Gtl','Mod', 'Sev'],\n",
    "                                        [2,1,0], inplace=True)\n",
    "\n",
    "    data['Functional'].replace(['Typ','Min1', 'Min2', 'Mod', 'Maj1', 'Maj2', 'Sev', 'Sal'],\n",
    "                                        [7,6,5,4,3,2,1,0], inplace=True)\n",
    "    \n",
    "\n",
    "\n",
    "    #data['GarageCars'].fillna(0,inplace=True)\n",
    "    data['GarageArea'].fillna(0,inplace=True)\n",
    "    data['BsmtFinSF1'].fillna(0,inplace=True)\n",
    "    data['BsmtFinSF2'].fillna(0,inplace=True)\n",
    "    data['BsmtUnfSF'].fillna(0,inplace=True)\n",
    "    data['TotalBsmtSF'].fillna(0,inplace=True)\n",
    "    data['BsmtFullBath'].fillna(0,inplace=True)\n",
    "    data['BsmtHalfBath'].fillna(0,inplace=True)\n",
    "    data['Electrical'].fillna(value='FuseA', inplace=True)\n",
    "    data['MSZoning'].fillna(value=data['MSZoning'].mode()[0], inplace=True)\n",
    "    data['Utilities'].fillna(value='AllPub', inplace=True)\n",
    "    data['Exterior1st'].fillna(value=data['Exterior1st'].mode()[0], inplace=True)\n",
    "    data['Exterior2nd'].fillna(value=data['Exterior2nd'].mode()[0], inplace=True)\n",
    "    data['SaleType'].fillna(value=data['SaleType'].mode()[0], inplace=True)\n",
    "\n",
    "\n",
    "    # Feature Engineering\n",
    "    if True:\n",
    "        data['Remodelled'] = (data['YearBuilt']==data['YearRemodAdd']).astype('int')\n",
    "        data['HiQualFinSF'] = data['GrLivArea']-data['LowQualFinSF']\n",
    "        data['TotBathAG'] = data['FullBath'] + data['HalfBath']\n",
    "        data['TotBathBmt'] = data['BsmtFullBath'] + data['BsmtHalfBath']\n",
    "        data['TotBath'] = data['TotBathAG']+data['TotBathBmt']\n",
    "        data['ExtraRooms'] = (data['TotRmsAbvGrd'] -\n",
    "        data['BedroomAbvGr'] - data['KitchenAbvGr'] - data['FullBath'] -\n",
    "        data['HalfBath'])\n",
    "\n",
    "        data['BsmtUnfFraction'] = data['BsmtUnfSF']/data['TotalBsmtSF']\n",
    "        data['BsmtUnfFraction'].fillna(value=0, inplace=True)\n",
    "\n",
    "        data['RemodelDelta'] = data['YearRemodAdd']-data['YearBuilt']\n",
    "        data['AgeSold'] = data['YrSold']-data['YearBuilt']\n",
    "\n",
    "\n",
    "    training_data_processed = categorical_to_ohe(data, categorical)\n",
    "    training_data_processed['LotFrontage'].fillna(value=0, inplace=True)\n",
    "    training_data_processed['MasVnrArea'].fillna(value=training_data_processed['MasVnrArea'].median(),\n",
    "                                             inplace=True)\n",
    "    \n",
    "    training_data_processed.drop(columns=['GarageYrBlt'], inplace=True)\n",
    "    \n",
    "    return training_data_processed\n",
    "\n",
    "training_data_processed = data_processing(training_data,nominal_classes,categorical_classes)\n",
    "test_data_processed = data_processing(test_data,nominal_classes,categorical_classes)\n",
    "\n",
    "to_drop = ['MiscFeature = nan','GarageType = nan']\n",
    "training_data_processed.drop(columns=to_drop,inplace=True)\n",
    "test_data_processed.drop(columns=to_drop,inplace=True)\n",
    "\n",
    "#training_data_processed['SalePrice'] = np.log(training_data_processed['SalePrice'])\n"
   ]
  },
  {
   "cell_type": "code",
   "execution_count": 6,
   "id": "e1ffaa2a",
   "metadata": {},
   "outputs": [
    {
     "name": "stdout",
     "output_type": "stream",
     "text": [
      "(1459, 197)\n",
      "(1460, 213)\n",
      "['MSSubClass = 150']\n",
      "---\n"
     ]
    }
   ],
   "source": [
    "to_add = []\n",
    "print(np.shape(test_data_processed))\n",
    "print(np.shape(training_data_processed))\n",
    "\n",
    "for c in test_data_processed.columns:\n",
    "    if c not in training_data_processed.columns:\n",
    "        if c != 'SalePrice':\n",
    "            to_add.append(c)\n",
    "\n",
    "\n",
    "print(to_add)\n",
    "training_data_processed[to_add] = 0\n",
    "\n",
    "print('---')\n",
    "to_add = []\n",
    "for c in training_data_processed.columns:\n",
    "    if c not in test_data_processed.columns:\n",
    "        if c != 'SalePrice':\n",
    "            to_add.append(c)\n",
    "\n",
    "\n",
    "test_data_processed[to_add] = 0\n",
    "\n",
    "\n"
   ]
  },
  {
   "cell_type": "code",
   "execution_count": 102,
   "id": "894ce74a",
   "metadata": {},
   "outputs": [
    {
     "ename": "TypeError",
     "evalue": "'size' is an invalid keyword argument for print()",
     "output_type": "error",
     "traceback": [
      "\u001b[1;31m---------------------------------------------------------------------------\u001b[0m",
      "\u001b[1;31mTypeError\u001b[0m                                 Traceback (most recent call last)",
      "Input \u001b[1;32mIn [102]\u001b[0m, in \u001b[0;36m<cell line: 4>\u001b[1;34m()\u001b[0m\n\u001b[0;32m      1\u001b[0m \u001b[38;5;66;03m# Feature Creation\u001b[39;00m\n\u001b[0;32m      2\u001b[0m joined_data \u001b[38;5;241m=\u001b[39m pd\u001b[38;5;241m.\u001b[39mconcat((training_data_processed,test_data_processed),axis\u001b[38;5;241m=\u001b[39m\u001b[38;5;241m0\u001b[39m)\n\u001b[1;32m----> 4\u001b[0m \u001b[43mcreate_features\u001b[49m\u001b[43m(\u001b[49m\u001b[43mjoined_data\u001b[49m\u001b[43m,\u001b[49m\u001b[43m \u001b[49m\u001b[38;5;241;43m5\u001b[39;49m\u001b[43m)\u001b[49m\n\u001b[0;32m      6\u001b[0m \u001b[38;5;28;01mdef\u001b[39;00m \u001b[38;5;21mcreate_features\u001b[39m(data, num_features):\n\u001b[0;32m      7\u001b[0m     nonb_feat_idx \u001b[38;5;241m=\u001b[39m np\u001b[38;5;241m.\u001b[39margwhere((data\u001b[38;5;241m.\u001b[39mnunique()\u001b[38;5;241m>\u001b[39m\u001b[38;5;241m2\u001b[39m)\u001b[38;5;241m.\u001b[39mto_numpy()\u001b[38;5;241m==\u001b[39m\u001b[38;5;241m1\u001b[39m)\u001b[38;5;241m.\u001b[39mreshape(\u001b[38;5;241m1\u001b[39m,\u001b[38;5;241m-\u001b[39m\u001b[38;5;241m1\u001b[39m)[\u001b[38;5;241m0\u001b[39m]\n",
      "Input \u001b[1;32mIn [90]\u001b[0m, in \u001b[0;36mcreate_features\u001b[1;34m(data, num_features)\u001b[0m\n\u001b[0;32m      6\u001b[0m \u001b[38;5;28;01mdef\u001b[39;00m \u001b[38;5;21mcreate_features\u001b[39m(data, num_features):\n\u001b[0;32m      7\u001b[0m     nonb_feat_idx \u001b[38;5;241m=\u001b[39m np\u001b[38;5;241m.\u001b[39margwhere((data\u001b[38;5;241m.\u001b[39mnunique()\u001b[38;5;241m>\u001b[39m\u001b[38;5;241m2\u001b[39m)\u001b[38;5;241m.\u001b[39mto_numpy()\u001b[38;5;241m==\u001b[39m\u001b[38;5;241m1\u001b[39m)\u001b[38;5;241m.\u001b[39mreshape(\u001b[38;5;241m1\u001b[39m,\u001b[38;5;241m-\u001b[39m\u001b[38;5;241m1\u001b[39m)[\u001b[38;5;241m0\u001b[39m]\n\u001b[1;32m----> 8\u001b[0m     \u001b[38;5;28;43mprint\u001b[39;49m\u001b[43m(\u001b[49m\u001b[43mnp\u001b[49m\u001b[38;5;241;43m.\u001b[39;49m\u001b[43mrandom\u001b[49m\u001b[38;5;241;43m.\u001b[39;49m\u001b[43mrandint\u001b[49m\u001b[43m(\u001b[49m\u001b[43mnp\u001b[49m\u001b[38;5;241;43m.\u001b[39;49m\u001b[43msize\u001b[49m\u001b[43m(\u001b[49m\u001b[43mnonb_feat_idx\u001b[49m\u001b[43m)\u001b[49m\u001b[43m)\u001b[49m\u001b[43m,\u001b[49m\u001b[43msize\u001b[49m\u001b[38;5;241;43m=\u001b[39;49m\u001b[43mnum_features\u001b[49m\u001b[43m)\u001b[49m\n",
      "\u001b[1;31mTypeError\u001b[0m: 'size' is an invalid keyword argument for print()"
     ]
    }
   ],
   "source": [
    "# Feature Creation\n",
    "joined_data = pd.concat((training_data_processed,test_data_processed),axis=0)\n",
    "\n",
    "create_features(joined_data, 5)\n",
    "\n",
    "def create_features(data, num_features):\n",
    "    nonb_feat_idx = np.argwhere((data.nunique()>2).to_numpy()==1).reshape(1,-1)[0]\n",
    "    tmp = np.random.randint(np.size(nonb_feat_idx),size=num_features)\n",
    "    print(tmp)"
   ]
  },
  {
   "cell_type": "code",
   "execution_count": 1554,
   "id": "0dd9e7d5",
   "metadata": {},
   "outputs": [],
   "source": [
    "cmatrix = training_data_processed.corr()\n",
    "\n",
    "upper_tri = cmatrix.where(np.triu(np.ones(cmatrix.shape),k=1).astype('bool'))\n",
    "\n",
    "to_drop = [column for column in upper_tri.columns if any(upper_tri[column] >= .95)]\n",
    "\n",
    "training_data_processed.drop(columns=to_drop,inplace=True)\n",
    "test_data_processed.drop(columns=to_drop,inplace=True)"
   ]
  },
  {
   "cell_type": "code",
   "execution_count": 1573,
   "id": "ffad4461",
   "metadata": {},
   "outputs": [
    {
     "name": "stderr",
     "output_type": "stream",
     "text": [
      "C:\\Users\\lewis\\AppData\\Local\\Temp\\ipykernel_27596\\1498619018.py:33: DeprecationWarning: KerasRegressor is deprecated, use Sci-Keras (https://github.com/adriangb/scikeras) instead. See https://www.adriangb.com/scikeras/stable/migration.html for help migrating.\n",
      "  model = KerasRegressor(build_fn=baseline_model,\n"
     ]
    },
    {
     "data": {
      "image/png": "[encoded data removed]",
      "text/plain": [
       "<Figure size 432x288 with 1 Axes>"
      ]
     },
     "metadata": {
      "needs_background": "light"
     },
     "output_type": "display_data"
    }
   ],
   "source": [
    "test_data_processed = test_data_processed.reindex(columns=sorted(test_data_processed.columns))\n",
    "training_data_processed = training_data_processed.reindex(columns=sorted(training_data_processed.columns))\n",
    "\n",
    "X_train, y_train = training_data_processed.drop(columns='SalePrice'), training_data_processed['SalePrice']\n",
    "X_train, X_val, y_train, y_val = train_test_split(X_train, y_train, test_size=0.2, shuffle=True)\n",
    "\n",
    "mms = MinMaxScaler()\n",
    "X_train = mms.fit_transform(X_train)\n",
    "X_val = mms.transform(X_val)\n",
    "X_test = mms.transform(test_data_processed)\n",
    "\n",
    "# Benchmark model\n",
    "K.clear_session()\n",
    "in_dim = np.shape(X_train)[1]\n",
    "\n",
    "\n",
    "def baseline_model():\n",
    "    # create model\n",
    "    model = Sequential()\n",
    "    model.add(Dense(500, input_dim=in_dim, activation='tanh'))\n",
    "    model.add(Dense(300, activation='relu'))\n",
    "    model.add(Dense(150, activation='relu'))\n",
    "    model.add(Dense(50, activation='relu'))\n",
    "    model.add(Dense(1, activation='linear'))\n",
    "    # Compile model\n",
    "    model.compile(loss='mse', optimizer='adam')\n",
    "    return model\n",
    "\n",
    "\n",
    "\n",
    "model = KerasRegressor(build_fn=baseline_model,\n",
    "                       epochs=1000,\n",
    "                       batch_size=64,\n",
    "                       verbose=0,\n",
    "                       validation_data=(X_val, y_val),\n",
    "                       callbacks = tf.keras.callbacks.EarlyStopping(monitor='val_loss',\n",
    "                                                                    patience=10,\n",
    "                                                                    min_delta=1000000,\n",
    "                                                                    restore_best_weights=True))\n",
    "\n",
    "\n",
    "\n",
    "model.fit(X_train, y_train)\n",
    "yp_ann = model.predict(X_val)\n",
    "err[0] = np.abs(yp_ann-y_val)\n",
    "\n",
    "\n",
    "plt.hist(err[0],bins=100)\n",
    "\n",
    "plt.title(f'Mean error = {np.mean(err[0])}')\n",
    "plt.show()"
   ]
  },
  {
   "cell_type": "code",
   "execution_count": 1575,
   "id": "8f261c80",
   "metadata": {
    "scrolled": true
   },
   "outputs": [
    {
     "name": "stderr",
     "output_type": "stream",
     "text": [
      "C:\\Users\\lewis\\AppData\\Local\\Temp\\ipykernel_27596\\1139425923.py:5: DeprecationWarning: KerasRegressor is deprecated, use Sci-Keras (https://github.com/adriangb/scikeras) instead. See https://www.adriangb.com/scikeras/stable/migration.html for help migrating.\n",
      "  ann_model = KerasRegressor(build_fn=baseline_model,\n"
     ]
    },
    {
     "name": "stdout",
     "output_type": "stream",
     "text": [
      "Best weights: [0.33004137 0.10374875 0.22097057 0.34523932]\n"
     ]
    },
    {
     "data": {
      "image/png": "[encoded data removed]",
      "text/plain": [
       "<Figure size 720x288 with 9 Axes>"
      ]
     },
     "metadata": {
      "needs_background": "light"
     },
     "output_type": "display_data"
    }
   ],
   "source": [
    "from sklearn.ensemble import GradientBoostingRegressor, AdaBoostRegressor\n",
    "from xgboost import XGBRegressor\n",
    "from sklearn.linear_model import Ridge, PoissonRegressor, Lasso\n",
    "\n",
    "ann_model = KerasRegressor(build_fn=baseline_model,\n",
    "                       epochs=1000,\n",
    "                       batch_size=64,\n",
    "                       verbose=0,\n",
    "                       validation_data=(X_val, y_val),\n",
    "                       callbacks = tf.keras.callbacks.EarlyStopping(monitor='val_loss',\n",
    "                                                                    patience=10,\n",
    "                                                                    min_delta=1000000,\n",
    "                                                                    restore_best_weights=True))\n",
    "\n",
    "models = [ann_model,\n",
    "          RandomForestRegressor(max_depth = 8 ,n_estimators = 100),\n",
    "          XGBRegressor(),\n",
    "          PoissonRegressor(max_iter=10000)]\n",
    "\n",
    "titles = ['ANN',\n",
    "          'RF',\n",
    "          'XGBoost',\n",
    "          'Pois',\n",
    "          'Wt.Avg.']\n",
    "\n",
    "yp = []\n",
    "err = []\n",
    "for m in models:\n",
    "    m.fit(X_train,y_train)\n",
    "    yp.append(m.predict(X_val).reshape(-1,1))\n",
    "    err.append(np.abs(m.predict(X_val)-y_val))\n",
    "\n",
    "\n",
    "predictions = yp[0]\n",
    "for i in range(1,len(yp)):\n",
    "    predictions = np.concatenate((predictions,yp[i]),axis=1)\n",
    "\n",
    "best = 9999999999\n",
    "\n",
    "for i in range(10000):\n",
    "    w = np.random.rand(np.shape(predictions)[1])\n",
    "    w = w/np.sum(w)\n",
    "    yp_avg = np.sum(predictions*w,axis=1)\n",
    "    err_avg = np.mean(np.abs(y_val-yp_avg))\n",
    "    \n",
    "    if err_avg<best:\n",
    "        best=err_avg\n",
    "        best_w = w\n",
    "    \n",
    "\n",
    "print(f'Best weights: {best_w}')\n",
    "\n",
    "yp.append(np.sum(predictions*best_w,axis=1))\n",
    "err.append(np.abs(np.abs(y_val-yp_avg)))\n",
    "\n",
    "\n",
    "\n",
    "fix,ax = plt.subplots(nrows=3,ncols=3,figsize=(10,4))\n",
    "ax = ax.flatten()\n",
    "\n",
    "\n",
    "\n",
    "for i in range(len(yp)):\n",
    "    ax[i].hist(err_ann,bins=100)\n",
    "    ax[i].set_title(f'{titles[i]}: Mean error = {np.round(np.mean(err[i]),1)}')\n",
    "\n",
    "\n",
    "plt.tight_layout()"
   ]
  },
  {
   "cell_type": "code",
   "execution_count": 1544,
   "id": "ba292ec8",
   "metadata": {},
   "outputs": [],
   "source": [
    "# feed through test set\n",
    "\n",
    "test_pred_avg = models[0].predict(X_test)*best_w[0]\n",
    "for i in range(1,len(models)):\n",
    "    test_pred_avg += models[i].predict(X_test)*best_w[i]\n",
    "\n",
    "\n",
    "\n"
   ]
  },
  {
   "cell_type": "code",
   "execution_count": 1545,
   "id": "383133f0",
   "metadata": {},
   "outputs": [
    {
     "name": "stdout",
     "output_type": "stream",
     "text": [
      "(1459,)\n"
     ]
    }
   ],
   "source": [
    "print(np.shape(test_pred_avg))\n",
    "pred = pd.DataFrame(test_pred_avg)\n",
    "sub_df = pd.read_csv('sample_submission.csv')\n",
    "datasets = pd.concat([sub_df['Id'],pred],axis=1)\n",
    "datasets.columns = ['Id', 'SalePrice']\n",
    "datasets.to_csv('submission_1.csv',index=False)"
   ]
  }
 ],
 "metadata": {
  "kernelspec": {
   "display_name": "Python 3 (ipykernel)",
   "language": "python",
   "name": "python3"
  },
  "language_info": {
   "codemirror_mode": {
    "name": "ipython",
    "version": 3
   },
   "file_extension": ".py",
   "mimetype": "text/x-python",
   "name": "python",
   "nbconvert_exporter": "python",
   "pygments_lexer": "ipython3",
   "version": "3.10.4"
  }
 },
 "nbformat": 4,
 "nbformat_minor": 5
}
