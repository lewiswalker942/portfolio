{
 "cells": [
  {
   "cell_type": "code",
   "execution_count": 92,
   "id": "e70aea8f",
   "metadata": {},
   "outputs": [],
   "source": [
    "import numpy as np\n",
    "import scipy.integrate as spint\n",
    "import matplotlib.pyplot as plt"
   ]
  },
  {
   "cell_type": "code",
   "execution_count": 106,
   "id": "c057c476",
   "metadata": {},
   "outputs": [
    {
     "data": {
      "text/plain": [
       "<matplotlib.collections.PathCollection at 0x292888dcfa0>"
      ]
     },
     "execution_count": 106,
     "metadata": {},
     "output_type": "execute_result"
    },
    {
     "data": {
      "image/png": "[encoded data removed]",
      "text/plain": [
       "<Figure size 432x288 with 1 Axes>"
      ]
     },
     "metadata": {
      "needs_background": "light"
     },
     "output_type": "display_data"
    }
   ],
   "source": [
    "def dynamic_model(t,X):\n",
    "    X = np.array(X)\n",
    "    g = -9.81\n",
    "    dx = 0*X\n",
    "    dx[0,:] = X[2,:]\n",
    "    dx[1,:] = X[3,:]\n",
    "    dx[2,:] = 0\n",
    "    dx[3,:] = g\n",
    "    \n",
    "    \n",
    "    return dx\n",
    "    \n",
    "y_0 = np.array([0,0,1,2])\n",
    "\n",
    "result = spint.RK45(dynamic_model,\n",
    "                    t0=0,\n",
    "                    y0=y_0,\n",
    "                    t_bound=1,\n",
    "                    max_step = 0.01,\n",
    "                    vectorized=True)\n",
    "\n",
    "\n",
    "states = np.zeros((1000,np.size(y_0)))\n",
    "ct = 0\n",
    "while result.t<result.t_bound:\n",
    "    result.step()\n",
    "    states[ct, :] = result.y\n",
    "    ct += 1\n",
    "    \n",
    "\n",
    "np.delete(states, range(ct,1000), axis=0)\n",
    "\n",
    "plt.scatter(states[:,0],states[:,1],s=1)"
   ]
  },
  {
   "cell_type": "code",
   "execution_count": 107,
   "id": "1bd70260",
   "metadata": {},
   "outputs": [
    {
     "data": {
      "text/plain": [
       "array([ 1.   , -2.905,  1.   , -7.81 ])"
      ]
     },
     "execution_count": 107,
     "metadata": {},
     "output_type": "execute_result"
    }
   ],
   "source": [
    "result.y"
   ]
  }
 ],
 "metadata": {
  "kernelspec": {
   "display_name": "Python 3 (ipykernel)",
   "language": "python",
   "name": "python3"
  },
  "language_info": {
   "codemirror_mode": {
    "name": "ipython",
    "version": 3
   },
   "file_extension": ".py",
   "mimetype": "text/x-python",
   "name": "python",
   "nbconvert_exporter": "python",
   "pygments_lexer": "ipython3",
   "version": "3.10.4"
  }
 },
 "nbformat": 4,
 "nbformat_minor": 5
}
