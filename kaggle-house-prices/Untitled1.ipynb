{
 "cells": [
  {
   "cell_type": "code",
   "execution_count": 43,
   "id": "f8bbe832",
   "metadata": {},
   "outputs": [
    {
     "name": "stdout",
     "output_type": "stream",
     "text": [
      "k = 0\n",
      "Wed\n"
     ]
    }
   ],
   "source": [
    "d1 = {0: 'Mon',\n",
    "     1: 'Tue',\n",
    "     2: 'Wed',\n",
    "     3: 'Thu',\n",
    "     4: 'Fri',\n",
    "     5: 'Sat',\n",
    "     6: 'Sun'}\n",
    "\n",
    "d2 = {'Mon': 0,\n",
    "     'Tue': 1,\n",
    "     'Wed': 2,\n",
    "     'Thu': 3,\n",
    "     'Fri': 4,\n",
    "     'Sat': 5,\n",
    "     'Sun': 6}\n",
    "\n",
    "\n",
    "K = 140\n",
    "S = \"Wed\"\n",
    "\n",
    "k = K%7\n",
    "print(f'k = {k}')\n",
    "\n",
    "S = d1[(d2[S] + k)%7]\n",
    "print(S)\n"
   ]
  },
  {
   "cell_type": "code",
   "execution_count": 55,
   "id": "5db6de64",
   "metadata": {},
   "outputs": [
    {
     "name": "stdout",
     "output_type": "stream",
     "text": [
      "2.5\n"
     ]
    }
   ],
   "source": [
    "predicted = [4, 25,  0.75, 11]\n",
    "observed  = [3, 21, -1.25, 13]\n",
    "\n",
    "n = len(predicted)\n",
    "\n",
    "diff = [(predicted[a] - observed[a])**2 / n for a in range(len(predicted))]\n",
    "\n",
    "print(sum(diff)**0.5)"
   ]
  },
  {
   "cell_type": "code",
   "execution_count": 96,
   "id": "97612568",
   "metadata": {},
   "outputs": [
    {
     "name": "stdout",
     "output_type": "stream",
     "text": [
      "Unexpected exception formatting exception. Falling back to standard exception\n"
     ]
    },
    {
     "name": "stderr",
     "output_type": "stream",
     "text": [
      "Traceback (most recent call last):\n",
      "  File \"E:\\Python\\Python310\\lib\\site-packages\\IPython\\core\\interactiveshell.py\", line 3397, in run_code\n",
      "    exec(code_obj, self.user_global_ns, self.user_ns)\n",
      "  File \"C:\\Users\\lewis\\AppData\\Local\\Temp\\ipykernel_29624\\4173198204.py\", line 17, in <cell line: 17>\n",
      "    solution(test_case)\n",
      "  File \"C:\\Users\\lewis\\AppData\\Local\\Temp\\ipykernel_29624\\4173198204.py\", line -1, in solution\n",
      "KeyboardInterrupt\n",
      "\n",
      "During handling of the above exception, another exception occurred:\n",
      "\n",
      "Traceback (most recent call last):\n",
      "  File \"E:\\Python\\Python310\\lib\\site-packages\\IPython\\core\\interactiveshell.py\", line 1992, in showtraceback\n",
      "    stb = self.InteractiveTB.structured_traceback(\n",
      "  File \"E:\\Python\\Python310\\lib\\site-packages\\IPython\\core\\ultratb.py\", line 1118, in structured_traceback\n",
      "    return FormattedTB.structured_traceback(\n",
      "  File \"E:\\Python\\Python310\\lib\\site-packages\\IPython\\core\\ultratb.py\", line 1012, in structured_traceback\n",
      "    return VerboseTB.structured_traceback(\n",
      "  File \"E:\\Python\\Python310\\lib\\site-packages\\IPython\\core\\ultratb.py\", line 865, in structured_traceback\n",
      "    formatted_exception = self.format_exception_as_a_whole(etype, evalue, etb, number_of_lines_of_context,\n",
      "  File \"E:\\Python\\Python310\\lib\\site-packages\\IPython\\core\\ultratb.py\", line 818, in format_exception_as_a_whole\n",
      "    frames.append(self.format_record(r))\n",
      "  File \"E:\\Python\\Python310\\lib\\site-packages\\IPython\\core\\ultratb.py\", line 736, in format_record\n",
      "    result += ''.join(_format_traceback_lines(frame_info.lines, Colors, self.has_colors, lvals))\n",
      "  File \"E:\\Python\\Python310\\lib\\site-packages\\stack_data\\utils.py\", line 145, in cached_property_wrapper\n",
      "    value = obj.__dict__[self.func.__name__] = self.func(obj)\n",
      "  File \"E:\\Python\\Python310\\lib\\site-packages\\stack_data\\core.py\", line 698, in lines\n",
      "    pieces = self.included_pieces\n",
      "  File \"E:\\Python\\Python310\\lib\\site-packages\\stack_data\\utils.py\", line 145, in cached_property_wrapper\n",
      "    value = obj.__dict__[self.func.__name__] = self.func(obj)\n",
      "  File \"E:\\Python\\Python310\\lib\\site-packages\\stack_data\\core.py\", line 649, in included_pieces\n",
      "    pos = scope_pieces.index(self.executing_piece)\n",
      "  File \"E:\\Python\\Python310\\lib\\site-packages\\stack_data\\utils.py\", line 145, in cached_property_wrapper\n",
      "    value = obj.__dict__[self.func.__name__] = self.func(obj)\n",
      "  File \"E:\\Python\\Python310\\lib\\site-packages\\stack_data\\core.py\", line 628, in executing_piece\n",
      "    return only(\n",
      "  File \"E:\\Python\\Python310\\lib\\site-packages\\executing\\executing.py\", line 164, in only\n",
      "    raise NotOneValueFound('Expected one value, found 0')\n",
      "executing.executing.NotOneValueFound: Expected one value, found 0\n"
     ]
    }
   ],
   "source": [
    "def solution(A):\n",
    "    #Restrict search space\n",
    "    search_limit = abs(min(A))\n",
    "\n",
    "    # Start at integer search_limit and count down, looking for matches\n",
    "    for i in range(-search_limit,0):\n",
    "        test_int = -i\n",
    "        if test_int in A:\n",
    "            if -test_int in A:\n",
    "                return test_int\n",
    "\n",
    "    # If none found\n",
    "    return 0\n",
    "\n",
    "import numpy as np\n",
    "test_case = np.random.randint(1000000000,size=5)\n",
    "solution(test_case)"
   ]
  },
  {
   "cell_type": "code",
   "execution_count": 125,
   "id": "8ef8b51c",
   "metadata": {},
   "outputs": [
    {
     "data": {
      "text/plain": [
       "963089637"
      ]
     },
     "execution_count": 125,
     "metadata": {},
     "output_type": "execute_result"
    }
   ],
   "source": [
    "def solution(A):\n",
    "    sols = []\n",
    "    for i in A:\n",
    "        if -i in A:\n",
    "            sols.append(i)\n",
    "    \n",
    "    if len(sols)==0:\n",
    "        return 0\n",
    "    else:\n",
    "        return(max(sols))\n",
    "        \n",
    "        \n",
    "import numpy as np\n",
    "test_case = np.random.randint(2000000000,size=100000) - 1000000000\n",
    "\n",
    "solution(test_case)"
   ]
  },
  {
   "cell_type": "code",
   "execution_count": 124,
   "id": "8e723a04",
   "metadata": {},
   "outputs": [
    {
     "name": "stdout",
     "output_type": "stream",
     "text": [
      "yes\n"
     ]
    }
   ],
   "source": [
    "if 390561091 in test_case:\n",
    "    print('yes')"
   ]
  }
 ],
 "metadata": {
  "kernelspec": {
   "display_name": "Python 3 (ipykernel)",
   "language": "python",
   "name": "python3"
  },
  "language_info": {
   "codemirror_mode": {
    "name": "ipython",
    "version": 3
   },
   "file_extension": ".py",
   "mimetype": "text/x-python",
   "name": "python",
   "nbconvert_exporter": "python",
   "pygments_lexer": "ipython3",
   "version": "3.10.4"
  }
 },
 "nbformat": 4,
 "nbformat_minor": 5
}
