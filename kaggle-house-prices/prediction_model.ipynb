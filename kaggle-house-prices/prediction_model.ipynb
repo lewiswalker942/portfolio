{
 "cells": [
  {
   "cell_type": "code",
   "execution_count": 2,
   "id": "a80f1027",
   "metadata": {
    "scrolled": true
   },
   "outputs": [],
   "source": [
    "import numpy as np\n",
    "import pandas as pd\n",
    "import seaborn as sb\n",
    "import matplotlib.pyplot as plt\n",
    "\n",
    "from keras import Sequential\n",
    "from keras.layers import Dense, Dropout\n",
    "from keras.wrappers.scikit_learn import KerasRegressor\n",
    "import keras.backend as K\n",
    "import tensorflow as tf\n",
    "from tensorflow.keras.utils import to_categorical\n",
    "from sklearn.model_selection import train_test_split\n",
    "from tensorflow.keras.utils import to_categorical\n",
    "from sklearn.preprocessing import LabelEncoder, MinMaxScaler, OneHotEncoder, StandardScaler\n",
    "from sklearn.ensemble import RandomForestRegressor\n",
    "from sklearn.model_selection import GridSearchCV"
   ]
  },
  {
   "cell_type": "code",
   "execution_count": 211,
   "id": "c49cc4d6",
   "metadata": {},
   "outputs": [],
   "source": [
    "# Load processed dataset\n",
    "X_train = pd.read_csv('./X_train.csv')\n",
    "X_test = pd.read_csv('./X_test.csv')\n",
    "y_train = pd.read_csv('./y_train.csv')['SalePrice']"
   ]
  },
  {
   "cell_type": "code",
   "execution_count": 212,
   "id": "0dd9e7d5",
   "metadata": {},
   "outputs": [],
   "source": [
    "# Remove highly correlated features\n",
    "cmatrix = X_train.corr()\n",
    "\n",
    "upper_tri = cmatrix.where(np.triu(np.ones(cmatrix.shape),k=1).astype('bool'))\n",
    "\n",
    "to_drop = [column for column in upper_tri.columns if any(upper_tri[column] >= .95)]\n",
    "\n",
    "X_train.drop(columns=to_drop,inplace=True)\n",
    "X_test.drop(columns=to_drop,inplace=True)"
   ]
  },
  {
   "cell_type": "code",
   "execution_count": 213,
   "id": "dc15ca01",
   "metadata": {},
   "outputs": [],
   "source": [
    "# Split data into sets for model training, model validation, and stack training\n",
    "X_train, X_val, y_train, y_val = train_test_split(X_train, y_train, test_size=0.3, shuffle=True)\n",
    "stackX_train, X_val, stacky_train, y_val = train_test_split(X_val, y_val, test_size=0.5, shuffle=True)\n",
    "\n",
    "mms = MinMaxScaler()\n",
    "X_train = mms.fit_transform(X_train)\n",
    "X_val = mms.transform(X_val)\n",
    "stackX_train = mms.transform(stackX_train)\n",
    "X_test = mms.transform(X_test)"
   ]
  },
  {
   "cell_type": "code",
   "execution_count": 214,
   "id": "10d9f795",
   "metadata": {},
   "outputs": [
    {
     "name": "stderr",
     "output_type": "stream",
     "text": [
      "C:\\Users\\lewis\\AppData\\Local\\Temp\\ipykernel_13812\\2621687044.py:20: DeprecationWarning: KerasRegressor is deprecated, use Sci-Keras (https://github.com/adriangb/scikeras) instead. See https://www.adriangb.com/scikeras/stable/migration.html for help migrating.\n",
      "  model = KerasRegressor(build_fn=baseline_model,\n"
     ]
    },
    {
     "data": {
      "image/png": "[encoded data removed]",
      "text/plain": [
       "<Figure size 432x288 with 1 Axes>"
      ]
     },
     "metadata": {
      "needs_background": "light"
     },
     "output_type": "display_data"
    }
   ],
   "source": [
    "# Benchmark model\n",
    "K.clear_session()\n",
    "in_dim = np.shape(X_train)[1]\n",
    "\n",
    "\n",
    "def baseline_model():\n",
    "    # create model\n",
    "    model = Sequential()\n",
    "    model.add(Dense(100, input_dim=in_dim, activation='tanh'))\n",
    "    model.add(Dense(50, activation='relu'))\n",
    "    model.add(Dense(20, activation='relu'))\n",
    "    model.add(Dense(10, activation='relu'))\n",
    "    model.add(Dense(1, activation='linear'))\n",
    "    # Compile model\n",
    "    model.compile(loss='mse', optimizer='adam')\n",
    "    return model\n",
    "\n",
    "\n",
    "\n",
    "model = KerasRegressor(build_fn=baseline_model,\n",
    "                       epochs=1000,\n",
    "                       batch_size=64,\n",
    "                       verbose=0,\n",
    "                       validation_data=(X_val, y_val),\n",
    "                       callbacks = tf.keras.callbacks.EarlyStopping(monitor='val_loss',\n",
    "                                                                    patience=10,\n",
    "                                                                    min_delta=1e-6,\n",
    "                                                                    restore_best_weights=True))\n",
    "\n",
    "\n",
    "\n",
    "model.fit(X_train, y_train)\n",
    "yp_ann = model.predict(X_val)\n",
    "err = np.abs(yp_ann-y_val)\n",
    "\n",
    "plt.hist(err,bins=100)\n",
    "\n",
    "plt.title(f'Mean error = {np.mean(err)}')\n",
    "plt.show()"
   ]
  },
  {
   "cell_type": "code",
   "execution_count": null,
   "id": "d681e7cd",
   "metadata": {},
   "outputs": [
    {
     "name": "stderr",
     "output_type": "stream",
     "text": [
      "C:\\Users\\lewis\\AppData\\Local\\Temp\\ipykernel_13812\\1664630802.py:9: DeprecationWarning: KerasRegressor is deprecated, use Sci-Keras (https://github.com/adriangb/scikeras) instead. See https://www.adriangb.com/scikeras/stable/migration.html for help migrating.\n",
      "  ann_model = KerasRegressor(build_fn=baseline_model,\n"
     ]
    },
    {
     "name": "stdout",
     "output_type": "stream",
     "text": [
      "Training ANN\n"
     ]
    }
   ],
   "source": [
    "# Train various models to estimate their performance\n",
    "from sklearn.ensemble import GradientBoostingRegressor, AdaBoostRegressor, ExtraTreesRegressor\n",
    "from xgboost import XGBRegressor\n",
    "from sklearn.linear_model import Ridge, PoissonRegressor, LassoCV, ElasticNetCV, RidgeCV\n",
    "from sklearn.svm import LinearSVR\n",
    "from catboost import CatBoostRegressor\n",
    "from sklearn.tree import DecisionTreeRegressor\n",
    "\n",
    "ann_model = KerasRegressor(build_fn=baseline_model,\n",
    "                       epochs=1000,\n",
    "                       batch_size=64,\n",
    "                       verbose=0,\n",
    "                       validation_data=(X_val, y_val),\n",
    "                       callbacks = tf.keras.callbacks.EarlyStopping(monitor='val_loss',\n",
    "                                                                    patience=10,\n",
    "                                                                    min_delta=1e-6,\n",
    "                                                                    restore_best_weights=True))\n",
    "\n",
    "models = [ann_model,\n",
    "          XGBRegressor(eval_metric='mae',n_estimators=500,max_depth=5, early_stopping_rounds=10),\n",
    "          GradientBoostingRegressor(n_iter_no_change=10),\n",
    "          AdaBoostRegressor(base_estimator=DecisionTreeRegressor(max_depth=5),n_estimators=500),\n",
    "          CatBoostRegressor(early_stopping_rounds=5,verbose=0),\n",
    "          LassoCV(),\n",
    "          ElasticNetCV(),\n",
    "          RidgeCV(),\n",
    "          PoissonRegressor(max_iter=100000)]\n",
    "\n",
    "titles = ['ANN',\n",
    "          'XGBoost',\n",
    "          'GBR',\n",
    "          'Ada',\n",
    "          'CatBoost',\n",
    "          'Lasso',\n",
    "          'ElasticNet',\n",
    "          'Ridge',\n",
    "          'Poisson']\n",
    "\n",
    "yp = []\n",
    "err = []\n",
    "ct = 0\n",
    "for model in models:\n",
    "    print(f'Training {titles[ct]}')\n",
    "    \n",
    "    if titles[ct] == 'XGBoost':\n",
    "        model.fit(X_train,y_train, eval_set=[(X_val,y_val)], verbose=0)\n",
    "        yp_ = model.predict(X_val)\n",
    "        \n",
    "    else:\n",
    "        model.fit(X_train,y_train)\n",
    "        yp_ = model.predict(X_val)\n",
    "        \n",
    "    \n",
    "        \n",
    "    \n",
    "    yp.append(yp_.reshape(-1,1))\n",
    "    err.append(np.abs(yp_-y_val))\n",
    "    ct+=1\n",
    "\n",
    "    \n",
    "predictions = yp[0]\n",
    "for i in range(1,len(yp)):\n",
    "    predictions = np.concatenate((predictions,yp[i]),axis=1)\n",
    "\n",
    "\n",
    "fix,ax = plt.subplots(nrows=3,ncols=4,figsize=(15,6))\n",
    "ax = ax.flatten()\n",
    "\n",
    "for i in range(len(yp)):\n",
    "    ax[i].hist(err[i],bins=100)\n",
    "    ax[i].set_title(f'{titles[i]}: Mean error = {np.round(np.mean(err[i]),1)}')\n",
    "\n",
    "\n",
    "plt.tight_layout()"
   ]
  },
  {
   "cell_type": "code",
   "execution_count": 209,
   "id": "4f647248",
   "metadata": {},
   "outputs": [
    {
     "name": "stdout",
     "output_type": "stream",
     "text": [
      "Mean error with stacking: 14832.047645031495\n"
     ]
    }
   ],
   "source": [
    "# Stack the best models into a single meta-model using linear regression as the meta-estimator algorithm\n",
    "from sklearn.ensemble import StackingRegressor\n",
    "from sklearn.linear_model import LinearRegression\n",
    "\n",
    "def stack_predict(stack_, X):\n",
    "    preds = np.zeros((X.shape[0],len(stack_)))\n",
    "\n",
    "    for i in range(len(model_stack)):\n",
    "        preds[:,i] = stack_[i].predict(X)\n",
    "    \n",
    "    return preds\n",
    "\n",
    "\n",
    "model_stack = [models[0],\n",
    "               models[1],\n",
    "               models[2],\n",
    "               models[3],\n",
    "               models[4],\n",
    "               models[5],\n",
    "               models[7],\n",
    "               models[8]]\n",
    "\n",
    "stack = LinearRegression()\n",
    "\n",
    "stack.fit(stack_predict(model_stack, stackX_train),\n",
    "          stacky_train)\n",
    "\n",
    "yp_stack = stack.predict(stack_predict(model_stack, X_val))\n",
    "err_stack = np.abs(yp_stack-y_val)\n",
    "print(f'Mean error with stacking: {np.mean(err_stack)}')\n",
    "\n",
    "test_pred = stack.predict(stack_predict(model_stack, X_test))"
   ]
  },
  {
   "cell_type": "code",
   "execution_count": 210,
   "id": "383133f0",
   "metadata": {},
   "outputs": [],
   "source": [
    "# Save predictions for submission\n",
    "pred = pd.DataFrame(test_pred)\n",
    "sub_df = pd.read_csv('sample_submission.csv')\n",
    "datasets = pd.concat([sub_df['Id'],pred],axis=1)\n",
    "datasets.columns = ['Id', 'SalePrice']\n",
    "datasets.to_csv('submission_1.csv',index=False)"
   ]
  }
 ],
 "metadata": {
  "kernelspec": {
   "display_name": "Python 3 (ipykernel)",
   "language": "python",
   "name": "python3"
  },
  "language_info": {
   "codemirror_mode": {
    "name": "ipython",
    "version": 3
   },
   "file_extension": ".py",
   "mimetype": "text/x-python",
   "name": "python",
   "nbconvert_exporter": "python",
   "pygments_lexer": "ipython3",
   "version": "3.10.4"
  }
 },
 "nbformat": 4,
 "nbformat_minor": 5
}
